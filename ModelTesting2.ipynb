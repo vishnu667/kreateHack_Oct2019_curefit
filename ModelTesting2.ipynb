{
 "cells": [
  {
   "cell_type": "code",
   "execution_count": 1,
   "metadata": {},
   "outputs": [
    {
     "name": "stderr",
     "output_type": "stream",
     "text": [
      "Using TensorFlow backend.\n",
      "/Users/prasadv/miniconda3/lib/python3.6/site-packages/tensorflow/python/framework/dtypes.py:523: FutureWarning: Passing (type, 1) or '1type' as a synonym of type is deprecated; in a future version of numpy, it will be understood as (type, (1,)) / '(1,)type'.\n",
      "  _np_qint8 = np.dtype([(\"qint8\", np.int8, 1)])\n",
      "/Users/prasadv/miniconda3/lib/python3.6/site-packages/tensorflow/python/framework/dtypes.py:524: FutureWarning: Passing (type, 1) or '1type' as a synonym of type is deprecated; in a future version of numpy, it will be understood as (type, (1,)) / '(1,)type'.\n",
      "  _np_quint8 = np.dtype([(\"quint8\", np.uint8, 1)])\n",
      "/Users/prasadv/miniconda3/lib/python3.6/site-packages/tensorflow/python/framework/dtypes.py:525: FutureWarning: Passing (type, 1) or '1type' as a synonym of type is deprecated; in a future version of numpy, it will be understood as (type, (1,)) / '(1,)type'.\n",
      "  _np_qint16 = np.dtype([(\"qint16\", np.int16, 1)])\n",
      "/Users/prasadv/miniconda3/lib/python3.6/site-packages/tensorflow/python/framework/dtypes.py:526: FutureWarning: Passing (type, 1) or '1type' as a synonym of type is deprecated; in a future version of numpy, it will be understood as (type, (1,)) / '(1,)type'.\n",
      "  _np_quint16 = np.dtype([(\"quint16\", np.uint16, 1)])\n",
      "/Users/prasadv/miniconda3/lib/python3.6/site-packages/tensorflow/python/framework/dtypes.py:527: FutureWarning: Passing (type, 1) or '1type' as a synonym of type is deprecated; in a future version of numpy, it will be understood as (type, (1,)) / '(1,)type'.\n",
      "  _np_qint32 = np.dtype([(\"qint32\", np.int32, 1)])\n",
      "/Users/prasadv/miniconda3/lib/python3.6/site-packages/tensorflow/python/framework/dtypes.py:532: FutureWarning: Passing (type, 1) or '1type' as a synonym of type is deprecated; in a future version of numpy, it will be understood as (type, (1,)) / '(1,)type'.\n",
      "  np_resource = np.dtype([(\"resource\", np.ubyte, 1)])\n"
     ]
    }
   ],
   "source": [
    "from keras.applications.resnet50 import ResNet50\n",
    "from keras.preprocessing import image\n",
    "from keras.applications.resnet50 import preprocess_input, decode_predictions\n",
    "import numpy as np\n",
    "from keras.models import Model\n",
    "from itertools import groupby\n",
    "import os\n",
    "import pandas as pd"
   ]
  },
  {
   "cell_type": "code",
   "execution_count": 2,
   "metadata": {},
   "outputs": [],
   "source": [
    "model = ResNet50(weights='imagenet')"
   ]
  },
  {
   "cell_type": "code",
   "execution_count": 3,
   "metadata": {},
   "outputs": [],
   "source": [
    "vecModel = Model(inputs=model.input, outputs=model.get_layer('avg_pool').output)"
   ]
  },
  {
   "cell_type": "code",
   "execution_count": 22,
   "metadata": {},
   "outputs": [],
   "source": [
    "def getVectors(info,videoName):\n",
    "    img = image.load_img('testingImages2/'+videoName+'/'+info[0], target_size=(224, 224))\n",
    "    x = image.img_to_array(img)\n",
    "    x = np.expand_dims(x, axis=0)\n",
    "    x = preprocess_input(x)\n",
    "    return vecModel.predict(x)[0]\n",
    "\n",
    "token2Num = {'Burpees':1,'JumpingJacks':2,'MountainClimber':3,'Plank':4,'PushUps':5,'Squat':6,'Other':0}\n",
    "num2Token = {1:'Burpees',2:'JumpingJacks',3:'MountainClimber',4:'Plank',5:'PushUps',6:'Squat',0:'Other'}\n",
    "tokenArray=['Other','Burpees','JumpingJacks','MountainClimber','Plank','PushUps','Squat']\n",
    "def getNum(x): return token2Num.get(x, 0)\n",
    "def getToken(x): return num2Token.get(x, 'Other')"
   ]
  },
  {
   "cell_type": "code",
   "execution_count": 5,
   "metadata": {},
   "outputs": [
    {
     "name": "stdout",
     "output_type": "stream",
     "text": [
      "Saved embeddings for video GroupWorkoutSideView\n",
      "Saved embeddings for video GroupWorkoutVideo\n",
      "Saved embeddings for video SingleWorkoutSideView\n",
      "Saved embeddings for video SingleWorkoutVideo\n"
     ]
    }
   ],
   "source": [
    "# session_id, label, seconds, i\n",
    "def generateEmbeddingsForVideo(videoName):\n",
    "    files = list(map(lambda x:[x,x.split('_')],list(filter(lambda x:'.png' in x,os.listdir('testingImages2/'+videoName+'/')))))\n",
    "    files.sort(key=lambda x:x[1][0])\n",
    "\n",
    "    out = []\n",
    "    for key, group in groupby(files, lambda x: x[1][0]):\n",
    "        group = list(group)\n",
    "        for key2, group2 in groupby(group, lambda x: x[1][3]):\n",
    "            group2=list(group2)\n",
    "            if(len(group)>=5):\n",
    "                vecs=[]\n",
    "                for info in group:\n",
    "                    vecs.append(getVectors(info,videoName))\n",
    "                for i in range(5,len(vecs)+1):\n",
    "                    out.append([getNum(info[1][1]), np.concatenate(vecs[i-5:i])])\n",
    "    df = pd.DataFrame(out,columns =['label', 'features'])\n",
    "    df.to_pickle('testingEmbeddings2/'+videoName)\n",
    "    print('Saved embeddings for video '+videoName)\n",
    "\n",
    "for video in ['GroupWorkoutSideView','GroupWorkoutVideo','SingleWorkoutSideView','SingleWorkoutVideo']:\n",
    "    generateEmbeddingsForVideo(video)"
   ]
  },
  {
   "cell_type": "code",
   "execution_count": 6,
   "metadata": {},
   "outputs": [],
   "source": [
    "# df = pd.concat(list(map(lambda x:pd.read_pickle('testingEmbeddings2/'+x),['GroupWorkoutSideView','GroupWorkoutVideo','SingleWorkoutSideView','SingleWorkoutVideo'])))"
   ]
  },
  {
   "cell_type": "code",
   "execution_count": 7,
   "metadata": {},
   "outputs": [],
   "source": [
    "from keras.models import Sequential\n",
    "from keras.layers import Dense\n",
    "from keras.wrappers.scikit_learn import KerasClassifier\n",
    "from keras.utils import np_utils\n",
    "from sklearn.model_selection import cross_val_score\n",
    "from sklearn.model_selection import KFold\n",
    "from sklearn.preprocessing import LabelEncoder\n",
    "from sklearn.pipeline import Pipeline"
   ]
  },
  {
   "cell_type": "code",
   "execution_count": 8,
   "metadata": {},
   "outputs": [],
   "source": [
    "# df = pd.read_pickle('trainingEmbeddings/DIY015')"
   ]
  },
  {
   "cell_type": "code",
   "execution_count": 9,
   "metadata": {},
   "outputs": [],
   "source": [
    "# dataset = df.values\n",
    "# X = np.stack(dataset[:,1], axis=0)\n",
    "# Y = dataset[:,0]\n",
    "# dummy_y = np_utils.to_categorical(Y)"
   ]
  },
  {
   "cell_type": "code",
   "execution_count": 10,
   "metadata": {},
   "outputs": [],
   "source": [
    "from keras.models import load_model\n",
    "loaded_model=load_model('modelV1')\n"
   ]
  },
  {
   "cell_type": "code",
   "execution_count": null,
   "metadata": {},
   "outputs": [],
   "source": []
  },
  {
   "cell_type": "code",
   "execution_count": 50,
   "metadata": {},
   "outputs": [
    {
     "name": "stdout",
     "output_type": "stream",
     "text": [
      "GroupWorkoutSideView\n",
      "['MountainClimber', 'JumpingJacks']\n",
      "['MountainClimber', 'JumpingJacks']\n",
      "['MountainClimber', 'JumpingJacks']\n",
      "['Squat', 'JumpingJacks']\n",
      "['MountainClimber', 'JumpingJacks']\n",
      "['MountainClimber', 'Plank']\n",
      "['MountainClimber', 'Plank']\n",
      "['MountainClimber', 'Plank']\n",
      "['Squat', 'Squat']\n",
      "['Squat', 'Squat']\n",
      "['Squat', 'Squat']\n",
      "['Squat', 'Squat']\n",
      "['Squat', 'Squat']\n",
      "['MountainClimber', 'PushUps']\n",
      "['MountainClimber', 'PushUps']\n",
      "['Plank', 'PushUps']\n",
      "['Plank', 'PushUps']\n",
      "['MountainClimber', 'Burpees']\n",
      "['MountainClimber', 'Burpees']\n",
      "['MountainClimber', 'Burpees']\n",
      "['MountainClimber', 'Burpees']\n",
      "['MountainClimber', 'MountainClimber']\n",
      "['MountainClimber', 'MountainClimber']\n",
      "['MountainClimber', 'MountainClimber']\n",
      "['MountainClimber', 'MountainClimber']\n",
      " \n",
      "GroupWorkoutVideo\n",
      "['Squat', 'JumpingJacks']\n",
      "['Squat', 'Plank']\n",
      "['Squat', 'Plank']\n",
      "['Squat', 'Plank']\n",
      "['MountainClimber', 'Plank']\n",
      "['Squat', 'Squat']\n",
      "['Squat', 'Squat']\n",
      "['Squat', 'Squat']\n",
      "['Squat', 'Squat']\n",
      "['Squat', 'Squat']\n",
      "['MountainClimber', 'PushUps']\n",
      "['Squat', 'PushUps']\n",
      "['MountainClimber', 'PushUps']\n",
      "['MountainClimber', 'PushUps']\n",
      "['MountainClimber', 'PushUps']\n",
      "['MountainClimber', 'PushUps']\n",
      "['Squat', 'Burpees']\n",
      "['Squat', 'Burpees']\n",
      "['Squat', 'Burpees']\n",
      "['Squat', 'Burpees']\n",
      "['MountainClimber', 'MountainClimber']\n",
      "['MountainClimber', 'MountainClimber']\n",
      "['Squat', 'MountainClimber']\n",
      "['MountainClimber', 'MountainClimber']\n",
      " \n",
      "SingleWorkoutSideView\n",
      "['Squat', 'Squat']\n",
      "['Squat', 'Squat']\n",
      "['MountainClimber', 'Squat']\n",
      "['MountainClimber', 'Squat']\n",
      "['MountainClimber', 'Other']\n",
      "['MountainClimber', 'Other']\n",
      "['Squat', 'Other']\n",
      "['MountainClimber', 'Other']\n",
      "['Squat', 'Other']\n",
      "['Squat', 'Other']\n",
      "['MountainClimber', 'Other']\n",
      "['MountainClimber', 'Other']\n",
      "['MountainClimber', 'Other']\n",
      "['MountainClimber', 'Other']\n",
      "['MountainClimber', 'Burpees']\n",
      "['MountainClimber', 'Burpees']\n",
      "['MountainClimber', 'Burpees']\n",
      "['MountainClimber', 'Burpees']\n",
      "['MountainClimber', 'Plank']\n",
      "['Plank', 'PushUps']\n",
      "['Plank', 'PushUps']\n",
      "['Plank', 'PushUps']\n",
      "['Plank', 'PushUps']\n",
      " \n",
      "SingleWorkoutVideo\n",
      "['MountainClimber', 'Squat']\n",
      "['MountainClimber', 'Squat']\n",
      "['Squat', 'Other']\n",
      "['Squat', 'Other']\n",
      "['MountainClimber', 'Other']\n",
      "['MountainClimber', 'Other']\n",
      "['MountainClimber', 'Other']\n",
      "['Squat', 'Other']\n",
      "['Squat', 'Other']\n",
      "['Squat', 'Other']\n",
      "['Squat', 'Other']\n",
      "['MountainClimber', 'Burpees']\n",
      "['MountainClimber', 'Burpees']\n",
      "['MountainClimber', 'Burpees']\n",
      "['MountainClimber', 'Burpees']\n",
      "['MountainClimber', 'Burpees']\n",
      "['MountainClimber', 'Plank']\n",
      "['MountainClimber', 'PushUps']\n",
      " \n"
     ]
    }
   ],
   "source": [
    "metrics= []\n",
    "for i in ['GroupWorkoutSideView','GroupWorkoutVideo','SingleWorkoutSideView','SingleWorkoutVideo']:\n",
    "    df=pd.read_pickle('testingEmbeddings2/'+i)\n",
    "    dataset = df.values\n",
    "    X = np.stack(dataset[:,1], axis=0)\n",
    "    Y = dataset[:,0]\n",
    "    dummy_y = np_utils.to_categorical(Y)\n",
    "    predictions = loaded_model.predict_classes(X)\n",
    "    print(i)\n",
    "    for j in list(map(lambda x:[getToken(x[0]),getToken(x[1])],list(zip(predictions,Y)))):\n",
    "        print(j)\n",
    "    t = list(map(lambda x:x[0]==x[1],list(zip(predictions,Y))))\n",
    "    metrics.append('{} \\t True : {}\\t False : {}\\t Accuracy : {}'.format(i,sum(t),abs(sum(t)-len(t)),(sum(t)/len(t)*100)))\n",
    "    print(\" \")"
   ]
  },
  {
   "cell_type": "code",
   "execution_count": 51,
   "metadata": {},
   "outputs": [
    {
     "name": "stdout",
     "output_type": "stream",
     "text": [
      "GroupWorkoutSideView \t True : 9\t False : 16\t Accuracy : 36.0\n",
      "GroupWorkoutVideo \t True : 8\t False : 16\t Accuracy : 33.33333333333333\n",
      "SingleWorkoutSideView \t True : 2\t False : 21\t Accuracy : 8.695652173913043\n",
      "SingleWorkoutVideo \t True : 0\t False : 18\t Accuracy : 0.0\n"
     ]
    }
   ],
   "source": [
    "for i in metrics:\n",
    "    print(i)"
   ]
  },
  {
   "cell_type": "code",
   "execution_count": null,
   "metadata": {},
   "outputs": [],
   "source": []
  },
  {
   "cell_type": "code",
   "execution_count": null,
   "metadata": {},
   "outputs": [],
   "source": []
  }
 ],
 "metadata": {
  "kernelspec": {
   "display_name": "Python 3",
   "language": "python",
   "name": "python3"
  },
  "language_info": {
   "codemirror_mode": {
    "name": "ipython",
    "version": 3
   },
   "file_extension": ".py",
   "mimetype": "text/x-python",
   "name": "python",
   "nbconvert_exporter": "python",
   "pygments_lexer": "ipython3",
   "version": "3.6.8"
  }
 },
 "nbformat": 4,
 "nbformat_minor": 2
}
